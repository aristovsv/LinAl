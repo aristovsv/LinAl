{
 "cells": [
  {
   "cell_type": "markdown",
   "id": "5c20a880",
   "metadata": {},
   "source": [
    "## Практическое задание №1"
   ]
  },
  {
   "cell_type": "markdown",
   "id": "ce64b995",
   "metadata": {},
   "source": [
    "__1.__ Решите систему уравнений методом Гаусса:\n",
    "\n",
    "$$\\begin{cases}\n",
    "x_{1}+x_{2}-x_{3}-2x_{4}=0, \\\\\n",
    "2x_{1}+x_{2}-x_{3}+x_{4}=-2, \\\\\n",
    "x_{1}+x_{2}-3x_{3}+x_{4}=4.\n",
    "\\end{cases}$$\n",
    "\n",
    "__2.__ Проверьте на совместность и выясните, сколько решений будет иметь система линейных уравнений:\n",
    "\n",
    "   а) $\\begin{cases}\n",
    "3x_{1}-x_{2}+x_{3}=4, \\\\\n",
    "2x_{1}-5x_{2}-3x_{3}=-17, \\\\\n",
    "x_{1}+x_{2}-x_{3}=0;\n",
    "\\end{cases}$\n",
    "    \n",
    "   б) $\\begin{cases}\n",
    "2x_{1}-4x_{2}+6x_{3}=1, \\\\\n",
    "x_{1}-2x_{2}+3x_{3}=-2, \\\\\n",
    "3x_{1}-6x_{2}+9x_{3}=5;\n",
    "\\end{cases}$\n",
    "    \n",
    "   в) $\\begin{cases}\n",
    "x_{1}+2x_{2}+5x_{3}=4, \\\\\n",
    "3x_{1}+x_{2}-8x_{3}=-2. \n",
    "\\end{cases}$\n",
    "\n",
    "\n",
    "__3.__ Проверьте на совместность и выясните, сколько решений будет иметь система линейных уравнений, заданная расширенной матрицей:\n",
    "\n",
    "$$\\tilde{A}=\\begin{pmatrix}\n",
    "\\left.\\begin{matrix}\n",
    "1 & 3 & -2 & 4\\\\ \n",
    "0 & 5 & 0 & 1\\\\ \n",
    "0 & 0 & 3 & 0\\\\ \n",
    "0 & 0 & 0 & 2\n",
    "\\end{matrix}\\right|\n",
    "\\begin{matrix}\n",
    "3\\\\ \n",
    "2\\\\\n",
    "4\\\\\n",
    "1\n",
    "\\end{matrix}\n",
    "\\end{pmatrix}.$$\n",
    "\n",
    "__4.__ Дана система линейных уравнений, заданная расширенной матрицей:\n",
    "\n",
    "$$\\tilde{A}=\\begin{pmatrix}\n",
    "\\left.\\begin{matrix}\n",
    "1 & 2 & 3\\\\ \n",
    "4 & 5 & 6\\\\ \n",
    "7 & 8 & 9\n",
    "\\end{matrix}\\right|\n",
    "\\begin{matrix}\n",
    "a\\\\ \n",
    "b\\\\\n",
    "c\n",
    "\\end{matrix}\n",
    "\\end{pmatrix}.$$\n",
    "\n",
    "Найдите соотношение между параметрами $a$, $b$ и $c$, при которых система считается несовместной."
   ]
  },
  {
   "cell_type": "markdown",
   "id": "e71d1377",
   "metadata": {},
   "source": [
    "### №1"
   ]
  },
  {
   "cell_type": "code",
   "execution_count": 1,
   "id": "97fd8760",
   "metadata": {},
   "outputs": [],
   "source": [
    "import numpy as np"
   ]
  },
  {
   "cell_type": "code",
   "execution_count": 2,
   "id": "96cde1f8",
   "metadata": {},
   "outputs": [],
   "source": [
    "def gauss_method(A, b, n):\n",
    "    rnk_A = np.linalg.matrix_rank(A)\n",
    "    rnk_Ab = np.linalg.matrix_rank(np.hstack((A, b)))\n",
    "    if  rnk_A == rnk_Ab == n:\n",
    "        return 'Cистема имеет единственное решение'\n",
    "    elif (rnk_A == rnk_Ab) and (rnk_A < n):\n",
    "        return 'Cистема имеет бесконечное количество решений'\n",
    "    elif rnk_A < rnk_Ab:\n",
    "        return 'Cистема несовместна'"
   ]
  },
  {
   "cell_type": "code",
   "execution_count": 3,
   "id": "f31325e3",
   "metadata": {},
   "outputs": [
    {
     "data": {
      "text/plain": [
       "'Cистема имеет бесконечное количество решений'"
      ]
     },
     "execution_count": 3,
     "metadata": {},
     "output_type": "execute_result"
    }
   ],
   "source": [
    "A = np.array([[1, 1, -1, -2], [2, 1, -1, 1], [1, 1, -3, 1]])\n",
    "b = np.array([0, -2, 4]).reshape(-1, 1)\n",
    "gauss_method(A, b, 4)"
   ]
  },
  {
   "cell_type": "markdown",
   "id": "2355f8c4",
   "metadata": {},
   "source": [
    "### №2"
   ]
  },
  {
   "cell_type": "code",
   "execution_count": 5,
   "id": "065d521e",
   "metadata": {},
   "outputs": [
    {
     "data": {
      "text/plain": [
       "'Cистема имеет единственное решение'"
      ]
     },
     "execution_count": 5,
     "metadata": {},
     "output_type": "execute_result"
    }
   ],
   "source": [
    "A = np.array([[3, -1, 1], [2, -5, -3], [1, 1, -1]])\n",
    "b = np.array([4, 17, 0]).reshape(-1, 1)\n",
    "gauss_method(A, b, 3)"
   ]
  },
  {
   "cell_type": "code",
   "execution_count": 6,
   "id": "18cb52d2",
   "metadata": {},
   "outputs": [
    {
     "data": {
      "text/plain": [
       "'Cистема несовместна'"
      ]
     },
     "execution_count": 6,
     "metadata": {},
     "output_type": "execute_result"
    }
   ],
   "source": [
    "A = np.array([[2, -4, 6], [1, -2, 3], [3, -6, 9]])\n",
    "b = np.array([1, -2, 5]).reshape(-1, 1)\n",
    "gauss_method(A, b, 3)"
   ]
  },
  {
   "cell_type": "code",
   "execution_count": 7,
   "id": "53c93aba",
   "metadata": {},
   "outputs": [
    {
     "data": {
      "text/plain": [
       "'Cистема имеет бесконечное количество решений'"
      ]
     },
     "execution_count": 7,
     "metadata": {},
     "output_type": "execute_result"
    }
   ],
   "source": [
    "A = np.array([[1, 2, 5], [3, 1, -8]])\n",
    "b = np.array([4, -2]).reshape(-1, 1)\n",
    "gauss_method(A, b, 3)"
   ]
  },
  {
   "cell_type": "markdown",
   "id": "7596b2ed",
   "metadata": {},
   "source": [
    "### №3"
   ]
  },
  {
   "cell_type": "code",
   "execution_count": 8,
   "id": "bb2af57b",
   "metadata": {},
   "outputs": [
    {
     "data": {
      "text/plain": [
       "'Cистема имеет единственное решение'"
      ]
     },
     "execution_count": 8,
     "metadata": {},
     "output_type": "execute_result"
    }
   ],
   "source": [
    "A = np.array([[1, 3, -2, 4], [0, 5, 0, 1], [0, 0, 3, 0], [0, 0, 0, 2]])\n",
    "b = np.array([3, 2, 4, 1]).reshape(-1, 1)\n",
    "gauss_method(A, b, 4)"
   ]
  },
  {
   "cell_type": "markdown",
   "id": "0e9a2709",
   "metadata": {},
   "source": [
    "## Практическое задание №2"
   ]
  },
  {
   "cell_type": "markdown",
   "id": "da271509",
   "metadata": {},
   "source": [
    "__1.__ Решите систему уравнений методом Крамера:\n",
    "\n",
    "   а) $\\begin{cases}\n",
    "x_{1}-2x_{2}=1 \\\\\n",
    "3x_{1}-4x_{2}=7\n",
    "\\end{cases}$\n",
    "    \n",
    "   б) $\\begin{cases}\n",
    "2x_{1}-x_{2}+5x_{3}=10 \\\\\n",
    "x_{1}+x_{2}-3x_{3}=-2 \\\\\n",
    "2x_{1}+4x_{2}+x_{3}=1\n",
    "\\end{cases}$\n",
    "\n",
    "__2*.__ Найдите $L$-матрицу $LU$-разложения для матрицы коэффициентов:\n",
    "\n",
    "   а)$$\\begin{pmatrix}\n",
    "1 & 2 & 4 \\\\ \n",
    "2 & 9 & 12 \\\\ \n",
    "3 & 26 & 30\n",
    "\\end{pmatrix}$$\n",
    "    \n",
    "   б)$$\\begin{pmatrix}\n",
    "1 & 1 & 2 & 4\\\\ \n",
    "2 & 5 & 8 & 9\\\\ \n",
    "3 & 18 & 29 & 18\\\\\n",
    "4 & 22 & 53 & 33\n",
    "\\end{pmatrix}$$\n",
    "    \n",
    "__3*.__ Решите систему линейных уравнений методом $LU$-разложения:\n",
    "\n",
    "$$\\begin{cases}\n",
    "2x_{1}+x_{2}+3x_{3}=1 \\\\\n",
    "11x_{1}+7x_{2}+5x_{3}=-6 \\\\\n",
    "9x_{1}+8x_{2}+4x_{3}=-5\n",
    "\\end{cases}$$\n",
    "\n",
    "__4*.__ Решите систему линейных уравнений методом Холецкого:\n",
    "\n",
    "$$\\begin{cases}\n",
    "81x_{1}-45x_{2}+45x_{3}=531 \\\\\n",
    "-45x_{1}+50x_{2}-15x_{3}=-460 \\\\\n",
    "45x_{1}-15x_{2}+38x_{3}=193\n",
    "\\end{cases}$$\n",
    "\n",
    "__5*.__ Напишите на Python программу с реализацией одного из изученных алгоритмов решения СЛАУ."
   ]
  },
  {
   "cell_type": "markdown",
   "id": "94acd8e1",
   "metadata": {},
   "source": [
    "### №1"
   ]
  },
  {
   "cell_type": "code",
   "execution_count": 14,
   "id": "8b8f7b87",
   "metadata": {},
   "outputs": [
    {
     "data": {
      "text/plain": [
       "4.999999999999998"
      ]
     },
     "execution_count": 14,
     "metadata": {},
     "output_type": "execute_result"
    }
   ],
   "source": [
    "A = np.array([[1, -2], [3, -4]])\n",
    "b = np.array([1, 7]).reshape(-1, 1)\n",
    "\n",
    "x1 = np.linalg.det(np.hstack((b, A[:,1].reshape(-1, 1)))) /  np.linalg.det(A)\n",
    "x1"
   ]
  },
  {
   "cell_type": "code",
   "execution_count": 15,
   "id": "30491e69",
   "metadata": {},
   "outputs": [
    {
     "data": {
      "text/plain": [
       "1.9999999999999996"
      ]
     },
     "execution_count": 15,
     "metadata": {},
     "output_type": "execute_result"
    }
   ],
   "source": [
    "x2 = np.linalg.det(np.hstack((A[:,0].reshape(-1, 1), b))) /  np.linalg.det(A)\n",
    "x2"
   ]
  },
  {
   "cell_type": "code",
   "execution_count": 16,
   "id": "e36a7976",
   "metadata": {},
   "outputs": [
    {
     "data": {
      "text/plain": [
       "array([[5.],\n",
       "       [2.]])"
      ]
     },
     "execution_count": 16,
     "metadata": {},
     "output_type": "execute_result"
    }
   ],
   "source": [
    "np.linalg.solve(A, b)"
   ]
  },
  {
   "cell_type": "code",
   "execution_count": 17,
   "id": "a5ab488d",
   "metadata": {},
   "outputs": [],
   "source": [
    "A = np.array([[2, -1, 5], [1, 2, -3], [2, 4, 1]])\n",
    "b = np.array([10, -2, 1]).reshape(-1, 1)"
   ]
  },
  {
   "cell_type": "code",
   "execution_count": 18,
   "id": "6de21265",
   "metadata": {},
   "outputs": [
    {
     "data": {
      "text/plain": [
       "2.6000000000000023"
      ]
     },
     "execution_count": 18,
     "metadata": {},
     "output_type": "execute_result"
    }
   ],
   "source": [
    "x_1 = np.linalg.det(np.hstack((b, A[:,1:]))) /  np.linalg.det(A)\n",
    "x_1"
   ]
  },
  {
   "cell_type": "code",
   "execution_count": 19,
   "id": "ead7ebe6",
   "metadata": {},
   "outputs": [
    {
     "data": {
      "text/plain": [
       "-1.2285714285714293"
      ]
     },
     "execution_count": 19,
     "metadata": {},
     "output_type": "execute_result"
    }
   ],
   "source": [
    "x_2 = np.linalg.det(np.hstack((A[:,:1], b, A[:,-1:]))) /  np.linalg.det(A)\n",
    "x_2"
   ]
  },
  {
   "cell_type": "code",
   "execution_count": 20,
   "id": "1e8d2da2",
   "metadata": {},
   "outputs": [
    {
     "data": {
      "text/plain": [
       "0.7142857142857143"
      ]
     },
     "execution_count": 20,
     "metadata": {},
     "output_type": "execute_result"
    }
   ],
   "source": [
    "x_3 = np.linalg.det(np.hstack((A[:,:2], b))) /  np.linalg.det(A)\n",
    "x_3"
   ]
  },
  {
   "cell_type": "code",
   "execution_count": 21,
   "id": "b4834773",
   "metadata": {},
   "outputs": [
    {
     "data": {
      "text/plain": [
       "array([[ 2.6       ],\n",
       "       [-1.22857143],\n",
       "       [ 0.71428571]])"
      ]
     },
     "execution_count": 21,
     "metadata": {},
     "output_type": "execute_result"
    }
   ],
   "source": [
    "np.linalg.solve(A, b)"
   ]
  },
  {
   "cell_type": "markdown",
   "id": "89a3695f",
   "metadata": {},
   "source": [
    "### №2`"
   ]
  },
  {
   "cell_type": "code",
   "execution_count": 26,
   "id": "6cc2922f",
   "metadata": {},
   "outputs": [
    {
     "name": "stdout",
     "output_type": "stream",
     "text": [
      "A:\n",
      "array([[ 1,  2,  4],\n",
      "       [ 2,  9, 12],\n",
      "       [ 3, 26, 30]])\n",
      "P (permutation):\n",
      "array([[0., 0., 1.],\n",
      "       [0., 1., 0.],\n",
      "       [1., 0., 0.]])\n",
      "L:\n",
      "array([[1.        , 0.        , 0.        ],\n",
      "       [0.66666667, 1.        , 0.        ],\n",
      "       [0.33333333, 0.8       , 1.        ]])\n",
      "U:\n",
      "array([[ 3.        , 26.        , 30.        ],\n",
      "       [ 0.        , -8.33333333, -8.        ],\n",
      "       [ 0.        ,  0.        ,  0.4       ]])\n"
     ]
    }
   ],
   "source": [
    "import pprint\n",
    "import scipy\n",
    "import scipy.linalg\n",
    "\n",
    "A = np.array([[1, 2, 4], [2, 9, 12], [3, 26, 30]])\n",
    "P, L, U = scipy.linalg.lu(A)\n",
    "print(\"A:\")\n",
    "pprint.pprint(A)\n",
    "\n",
    "print(\"P (permutation):\")\n",
    "pprint.pprint(P)\n",
    "\n",
    "print(\"L:\")\n",
    "pprint.pprint(L)\n",
    "\n",
    "print(\"U:\")\n",
    "pprint.pprint(U)"
   ]
  },
  {
   "cell_type": "code",
   "execution_count": 27,
   "id": "0ef637d3",
   "metadata": {},
   "outputs": [
    {
     "name": "stdout",
     "output_type": "stream",
     "text": [
      "B:\n",
      "array([[ 1,  1,  2,  4],\n",
      "       [ 2,  5,  8,  9],\n",
      "       [ 3, 18, 29, 18],\n",
      "       [ 4, 22, 53, 33]])\n",
      "P:\n",
      "array([[0., 0., 0., 1.],\n",
      "       [0., 1., 0., 0.],\n",
      "       [0., 0., 1., 0.],\n",
      "       [1., 0., 0., 0.]])\n",
      "L:\n",
      "array([[ 1.        ,  0.        ,  0.        ,  0.        ],\n",
      "       [ 0.5       ,  1.        ,  0.        ,  0.        ],\n",
      "       [ 0.75      , -0.25      ,  1.        ,  0.        ],\n",
      "       [ 0.25      ,  0.75      , -0.17073171,  1.        ]])\n",
      "U:\n",
      "array([[  4.        ,  22.        ,  53.        ,  33.        ],\n",
      "       [  0.        ,  -6.        , -18.5       ,  -7.5       ],\n",
      "       [  0.        ,   0.        , -15.375     ,  -8.625     ],\n",
      "       [  0.        ,   0.        ,   0.        ,  -0.09756098]])\n"
     ]
    }
   ],
   "source": [
    "B = np.array([[1, 1, 2, 4], [2, 5, 8, 9], [3, 18, 29, 18], [4, 22, 53, 33]])\n",
    "P, L, U = scipy.linalg.lu(B)\n",
    "print(\"B:\")\n",
    "pprint.pprint(B)\n",
    "\n",
    "print(\"P:\")\n",
    "pprint.pprint(P)\n",
    "\n",
    "print(\"L:\")\n",
    "pprint.pprint(L)\n",
    "\n",
    "print(\"U:\")\n",
    "pprint.pprint(U)"
   ]
  },
  {
   "cell_type": "markdown",
   "id": "24a544d1",
   "metadata": {},
   "source": [
    "### №3"
   ]
  },
  {
   "cell_type": "code",
   "execution_count": 28,
   "id": "11cb730d",
   "metadata": {},
   "outputs": [
    {
     "name": "stdout",
     "output_type": "stream",
     "text": [
      "A:\n",
      "array([[ 2,  1,  3],\n",
      "       [11,  7,  5],\n",
      "       [ 9,  8,  4]])\n",
      "P (permutation):\n",
      "array([[0., 0., 1.],\n",
      "       [1., 0., 0.],\n",
      "       [0., 1., 0.]])\n",
      "L:\n",
      "array([[ 1.        ,  0.        ,  0.        ],\n",
      "       [ 0.81818182,  1.        ,  0.        ],\n",
      "       [ 0.18181818, -0.12      ,  1.        ]])\n",
      "U:\n",
      "array([[11.        ,  7.        ,  5.        ],\n",
      "       [ 0.        ,  2.27272727, -0.09090909],\n",
      "       [ 0.        ,  0.        ,  2.08      ]])\n"
     ]
    }
   ],
   "source": [
    "A = np.array([[2, 1, 3], [11, 7, 5], [9, 8, 4]])\n",
    "P, L, U = scipy.linalg.lu(A)\n",
    "print(\"A:\")\n",
    "pprint.pprint(A)\n",
    "\n",
    "print(\"P (permutation):\")\n",
    "pprint.pprint(P)\n",
    "\n",
    "print(\"L:\")\n",
    "pprint.pprint(L)\n",
    "\n",
    "print(\"U:\")\n",
    "pprint.pprint(U)"
   ]
  },
  {
   "cell_type": "code",
   "execution_count": 29,
   "id": "3bf8be76",
   "metadata": {},
   "outputs": [
    {
     "name": "stdout",
     "output_type": "stream",
     "text": [
      "y1: 1.0, y2: -6.8, y3: -6.0\n"
     ]
    }
   ],
   "source": [
    "y1 = 1\n",
    "y2 = -6 - 0.82\n",
    "y3 = -5 -0.18 +0.12*y2\n",
    "print(f'y1: {y1:.1f}, y2: {y2:.1f}, y3: {y3:.1f}')"
   ]
  },
  {
   "cell_type": "code",
   "execution_count": 30,
   "id": "7136035c",
   "metadata": {},
   "outputs": [
    {
     "name": "stdout",
     "output_type": "stream",
     "text": [
      "x1: 3.4, x2: -3.1, x3: -2.9\n"
     ]
    }
   ],
   "source": [
    "x3 = y3/2.08\n",
    "x2 = (y2 + 0.09 * x3)/ 2.27\n",
    "x1 = (y1- 5*x3 - 7*x2)/11\n",
    "print(f'x1: {x1:.1f}, x2: {x2:.1f}, x3: {x3:.1f}')"
   ]
  }
 ],
 "metadata": {
  "kernelspec": {
   "display_name": "Python 3 (ipykernel)",
   "language": "python",
   "name": "python3"
  },
  "language_info": {
   "codemirror_mode": {
    "name": "ipython",
    "version": 3
   },
   "file_extension": ".py",
   "mimetype": "text/x-python",
   "name": "python",
   "nbconvert_exporter": "python",
   "pygments_lexer": "ipython3",
   "version": "3.9.12"
  }
 },
 "nbformat": 4,
 "nbformat_minor": 5
}
