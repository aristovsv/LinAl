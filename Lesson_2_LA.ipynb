{
 "cells": [
  {
   "cell_type": "code",
   "execution_count": 1,
   "id": "817d74d9",
   "metadata": {},
   "outputs": [],
   "source": [
    "import numpy as np"
   ]
  },
  {
   "cell_type": "markdown",
   "id": "a06b6d9f",
   "metadata": {},
   "source": [
    "1. Установите, какие произведения матриц 𝐴𝐵 и 𝐵𝐴\n",
    "\n",
    "определены, и найдите размерности полученных матриц:\n",
    "\n",
    "а) 𝐴\n",
    "— матрица 4×2, 𝐵 — матрица 4×2\n",
    "\n",
    "б) 𝐴\n",
    "— матрица 2×5, 𝐵 — матрица 5×3\n",
    "\n",
    "в) 𝐴\n",
    "— матрица 8×3, 𝐵 — матрица 3×8\n",
    "\n",
    "г) 𝐴\n",
    "— квадратная матрица 4×4, 𝐵 — квадратная матрица 4×4."
   ]
  },
  {
   "cell_type": "markdown",
   "id": "fa4a17e6",
   "metadata": {},
   "source": [
    "Если количество столбцов в первой матрице соответствует количеству строк во второй, то можно сказать, что произведение матриц определено. \n",
    "\n",
    "а) произведение матриц неопределено, 2 не равно 4; \n",
    "\n",
    "б) произведение матриц определено, 5 = 5, размерность полученной матрицы 2×3; \n",
    "\n",
    "в) произведение матриц определено, 3 = 3, размерность полученной матрицыь 8×8; \n",
    "\n",
    "г) произведение матриц определено, 4 = 4, размерность полученной матрицы 4×4."
   ]
  },
  {
   "cell_type": "markdown",
   "id": "0e43efba",
   "metadata": {},
   "source": [
    "__2.__ Найдите сумму и произведение матриц $A=\\begin{pmatrix}\n",
    "1 & -2\\\\ \n",
    "3 & 0\n",
    "\\end{pmatrix}$ и $B=\\begin{pmatrix}\n",
    "4 & -1\\\\ \n",
    "0 & 5\n",
    "\\end{pmatrix}.$"
   ]
  },
  {
   "cell_type": "code",
   "execution_count": 3,
   "id": "f901586c",
   "metadata": {},
   "outputs": [
    {
     "name": "stdout",
     "output_type": "stream",
     "text": [
      "Матрица:\n",
      "[[ 1 -2]\n",
      " [ 3  0]]\n",
      "Матрица:\n",
      "[[ 4 -1]\n",
      " [ 0  5]]\n"
     ]
    }
   ],
   "source": [
    "a = np.array([[1, -2], [3, 0]])\n",
    "print(f'Матрица:\\n{a}')\n",
    "\n",
    "b = np.array([[4, -1], [0, 5]])\n",
    "print(f'Матрица:\\n{b}')"
   ]
  },
  {
   "cell_type": "code",
   "execution_count": 4,
   "id": "657b629d",
   "metadata": {},
   "outputs": [
    {
     "name": "stdout",
     "output_type": "stream",
     "text": [
      "Матрица С = A + B\n",
      "[[ 5 -3]\n",
      " [ 3  5]]\n"
     ]
    }
   ],
   "source": [
    "print(f'Матрица С = A + B\\n{a + b}')"
   ]
  },
  {
   "cell_type": "code",
   "execution_count": 5,
   "id": "4dbd87fd",
   "metadata": {},
   "outputs": [
    {
     "name": "stdout",
     "output_type": "stream",
     "text": [
      "Матрица AB\n",
      "[[  4 -11]\n",
      " [ 12  -3]]\n"
     ]
    }
   ],
   "source": [
    "print(f'Матрица AB\\n{np.dot(a, b)}')"
   ]
  },
  {
   "cell_type": "markdown",
   "id": "bde5fbb4",
   "metadata": {},
   "source": [
    "__3.__ Из закономерностей сложения и умножения матриц на число можно сделать вывод, что матрицы одного размера образуют линейное пространство. Вычислите линейную комбинацию $3A-2B+4C$ для матриц $A=\\begin{pmatrix}\n",
    "1 & 7\\\\ \n",
    "3 & -6\n",
    "\\end{pmatrix}$, $B=\\begin{pmatrix}\n",
    "0 & 5\\\\ \n",
    "2 & -1\n",
    "\\end{pmatrix}$, $C=\\begin{pmatrix}\n",
    "2 & -4\\\\ \n",
    "1 & 1\n",
    "\\end{pmatrix}.$"
   ]
  },
  {
   "cell_type": "code",
   "execution_count": 7,
   "id": "76e5af11",
   "metadata": {},
   "outputs": [
    {
     "name": "stdout",
     "output_type": "stream",
     "text": [
      "Матрица:\n",
      "[[ 1  7]\n",
      " [ 3 -6]]\n",
      "Матрица:\n",
      "[[ 0  5]\n",
      " [ 2 -1]]\n",
      "Матрица:\n",
      "[[ 2 -4]\n",
      " [ 1  1]]\n",
      "Комбинация 3𝐴−2𝐵+4𝐶\n",
      "[[ 11  -5]\n",
      " [  9 -12]]\n"
     ]
    }
   ],
   "source": [
    "A = np.array([[1, 7], [3, -6]])\n",
    "B = np.array([[0, 5], [2, -1]])\n",
    "C = np.array([[2, -4], [1, 1]])\n",
    "\n",
    "print(f'Матрица:\\n{A}')\n",
    "print(f'Матрица:\\n{B}')\n",
    "print(f'Матрица:\\n{C}')\n",
    "\n",
    "print(f'Комбинация 3𝐴−2𝐵+4𝐶\\n{3*A -2*B + 4*C}')"
   ]
  },
  {
   "cell_type": "markdown",
   "id": "60c430a8",
   "metadata": {},
   "source": [
    "__4.__ Дана матрица $A=\\begin{pmatrix}\n",
    "4 & 1\\\\ \n",
    "5 & -2\\\\ \n",
    "2 & 3\n",
    "\\end{pmatrix}$.\n",
    "Вычислите $AA^{T}$ и $A^{T}A$."
   ]
  },
  {
   "cell_type": "code",
   "execution_count": 11,
   "id": "e51830d1",
   "metadata": {},
   "outputs": [
    {
     "name": "stdout",
     "output_type": "stream",
     "text": [
      "Матрица:\n",
      "[[ 4  1]\n",
      " [ 5 -2]\n",
      " [ 2  3]]\n",
      "Транспонированная матрица:\n",
      "[[ 4  5  2]\n",
      " [ 1 -2  3]]\n",
      "Матрица 𝐴𝐴𝑇:\n",
      "[[17 18 11]\n",
      " [18 29  4]\n",
      " [11  4 13]]\n",
      "Матрица 𝐴𝑇𝐴:\n",
      "[[45  0]\n",
      " [ 0 14]]\n"
     ]
    }
   ],
   "source": [
    "A = np.array([[4, 1], [5, -2], [2, 3]])\n",
    "print(f'Матрица:\\n{A}')\n",
    "\n",
    "print(f'Транспонированная матрица:\\n{A.T}')\n",
    "print(f'Матрица 𝐴𝐴𝑇:\\n{np.dot(A, A.T)}')\n",
    "print(f'Матрица 𝐴𝑇𝐴:\\n{np.dot(A.T, A)}')"
   ]
  },
  {
   "cell_type": "markdown",
   "id": "b0f2baee",
   "metadata": {},
   "source": [
    "### Part 2"
   ]
  },
  {
   "cell_type": "markdown",
   "id": "ad2bc940",
   "metadata": {},
   "source": [
    "__1.__ Вычислите определитель:\n",
    "\n",
    "   a)\n",
    "\n",
    "$$\\begin{vmatrix}\n",
    "sinx & -cosx\\\\ \n",
    "cosx & sinx\n",
    "\\end{vmatrix};$$\n",
    "\n",
    "   б)\n",
    "    \n",
    "$$\\begin{vmatrix}\n",
    "4 & 2 & 3\\\\ \n",
    "0 & 5 & 1\\\\ \n",
    "0 & 0 & 9\n",
    "\\end{vmatrix};$$\n",
    "    \n",
    "   в)\n",
    "\n",
    "$$\\begin{vmatrix}\n",
    "1 & 2 & 3\\\\ \n",
    "4 & 5 & 6\\\\ \n",
    "7 & 8 & 9\n",
    "\\end{vmatrix}.$$"
   ]
  },
  {
   "cell_type": "code",
   "execution_count": 14,
   "id": "f9b48fdf",
   "metadata": {},
   "outputs": [
    {
     "name": "stdout",
     "output_type": "stream",
     "text": [
      "Матрица:\n",
      "[[ 0. -1.]\n",
      " [ 1.  0.]]\n",
      "Определитель:\n",
      "1\n"
     ]
    }
   ],
   "source": [
    "a = np.array([[np.sin(0), -np.cos(0)], [np.cos(0), np.sin(0)]])\n",
    "print(f'Матрица:\\n{a}')\n",
    "print(f'Определитель:\\n{np.linalg.det(a):.0f}')"
   ]
  },
  {
   "cell_type": "code",
   "execution_count": 15,
   "id": "7c422406",
   "metadata": {},
   "outputs": [
    {
     "name": "stdout",
     "output_type": "stream",
     "text": [
      "Матрица:\n",
      "[[4 2 3]\n",
      " [0 5 1]\n",
      " [0 0 9]]\n",
      "Определитель:\n",
      "180\n"
     ]
    }
   ],
   "source": [
    "b = np.array([[4, 2, 3], [0, 5, 1], [0, 0, 9]])\n",
    "print(f'Матрица:\\n{b}')\n",
    "print(f'Определитель:\\n{np.linalg.det(b):.0f}')"
   ]
  },
  {
   "cell_type": "code",
   "execution_count": 16,
   "id": "d52ea4a0",
   "metadata": {},
   "outputs": [
    {
     "name": "stdout",
     "output_type": "stream",
     "text": [
      "Матрица:\n",
      "[[1 2 3]\n",
      " [4 5 6]\n",
      " [7 8 9]]\n",
      "Определитель:\n",
      "-0\n"
     ]
    }
   ],
   "source": [
    "c = np.array([[1, 2, 3], [4, 5, 6], [7, 8, 9]])\n",
    "print(f'Матрица:\\n{c}')\n",
    "print(f'Определитель:\\n{np.linalg.det(c):.0f}')"
   ]
  },
  {
   "cell_type": "markdown",
   "id": "69a3720c",
   "metadata": {},
   "source": [
    "__2.__ Определитель матрицы $A$ равен $4$. Найдите:\n",
    "\n",
    "   а) $det(A^{2})$;\n",
    "    \n",
    "   б) $det(A^{T})$;\n",
    "    \n",
    "   в) $det(2A)$."
   ]
  },
  {
   "cell_type": "markdown",
   "id": "94508e93",
   "metadata": {},
   "source": [
    "a) Согласно свойству для двух квадратных матриц одинакового размера, $$det(AB)=detA\\cdot detB.$$\n",
    "$$det(AA) = detA\\cdot detA = 16$$\n",
    "\n",
    "б) Определитель транспонированной матрицы равен определителю исходной:\n",
    "\n",
    "$$detA^{T}=detA = 4$$\n",
    "\n",
    "в) Умножение строки или столбца матрицы на число $\\lambda$ приведёт к умножению определителя матрицы на то же число. \n",
    "\n",
    "- Доказательство этого свойства элементарно, так как, исходя из формулы определителя, множитель из указанной строки будет в каждом из слагаемых при нахождении определителя разложением по этой строке/столбцу, что равнозначно его умножению на это число.\n",
    " \n",
    "$$det(2A)= detA * 2^n = 16$$"
   ]
  },
  {
   "cell_type": "markdown",
   "id": "5415e8f5",
   "metadata": {},
   "source": [
    "__3.__  Докажите, что матрица:\n",
    "\n",
    "$$\\begin{pmatrix}\n",
    "-2 & 7 & -3\\\\ \n",
    "4 & -14 & 6\\\\ \n",
    "-3 & 7 & 13\n",
    "\\end{pmatrix}$$\n",
    "   \n",
    "вырожденная."
   ]
  },
  {
   "cell_type": "code",
   "execution_count": 17,
   "id": "e79771e0",
   "metadata": {},
   "outputs": [
    {
     "name": "stdout",
     "output_type": "stream",
     "text": [
      "Матрица:\n",
      "[[ -2   7  -3]\n",
      " [  4 -14   6]\n",
      " [ -3   7  13]]\n",
      "Определитель:\n",
      "0\n"
     ]
    }
   ],
   "source": [
    "d = np.array([[-2, 7, -3], [4, -14, 6], [-3, 7, 13]])\n",
    "print(f'Матрица:\\n{d}')\n",
    "print(f'Определитель:\\n{np.linalg.det(d):.0f}')"
   ]
  },
  {
   "cell_type": "markdown",
   "id": "0b6afd8e",
   "metadata": {},
   "source": [
    "Матрица называется сингулярной или вырожденной, если её определитель равен нулю"
   ]
  },
  {
   "cell_type": "markdown",
   "id": "189513a7",
   "metadata": {},
   "source": [
    "__4.__ Найдите ранг матрицы:\n",
    "\n",
    "   а) $\\begin{pmatrix}\n",
    "1 & 2 & 3\\\\ \n",
    "1 & 1 & 1\\\\ \n",
    "2 & 3 & 4\n",
    "\\end{pmatrix};$\n",
    "\n",
    "   б) $\\begin{pmatrix}\n",
    "0 & 0 & 2 & 1\\\\ \n",
    "0 & 0 & 2 & 2\\\\ \n",
    "0 & 0 & 4 & 3\\\\ \n",
    "2 & 3 & 5 & 6\n",
    "\\end{pmatrix}.$"
   ]
  },
  {
   "cell_type": "code",
   "execution_count": 18,
   "id": "bcd14b8d",
   "metadata": {},
   "outputs": [
    {
     "name": "stdout",
     "output_type": "stream",
     "text": [
      "Ранг матрицы: 2\n"
     ]
    }
   ],
   "source": [
    "x = [1, 2, 3]\n",
    "y = [1, 1, 1]\n",
    "z = [2, 3, 4]\n",
    "\n",
    "a = np.array([x, y, z])\n",
    "r = np.linalg.matrix_rank(a)\n",
    "\n",
    "print(f'Ранг матрицы: {r}')"
   ]
  },
  {
   "cell_type": "code",
   "execution_count": 19,
   "id": "f0eec8d4",
   "metadata": {},
   "outputs": [
    {
     "name": "stdout",
     "output_type": "stream",
     "text": [
      "Ранг матрицы: 3\n"
     ]
    }
   ],
   "source": [
    "x1 = [0, 0, 2, 1]\n",
    "y1 = [0, 0, 2, 2]\n",
    "z1 = [0, 0, 4, 3]\n",
    "d = [2, 3, 5, 6]\n",
    "\n",
    "b = np.array([x1, y1, z1, d])\n",
    "r1 = np.linalg.matrix_rank(b)\n",
    "\n",
    "print(f'Ранг матрицы: {r1}')"
   ]
  },
  {
   "cell_type": "code",
   "execution_count": null,
   "id": "d8bfd756",
   "metadata": {},
   "outputs": [],
   "source": []
  }
 ],
 "metadata": {
  "kernelspec": {
   "display_name": "Python 3",
   "language": "python",
   "name": "python3"
  },
  "language_info": {
   "codemirror_mode": {
    "name": "ipython",
    "version": 3
   },
   "file_extension": ".py",
   "mimetype": "text/x-python",
   "name": "python",
   "nbconvert_exporter": "python",
   "pygments_lexer": "ipython3",
   "version": "3.8.8"
  }
 },
 "nbformat": 4,
 "nbformat_minor": 5
}
